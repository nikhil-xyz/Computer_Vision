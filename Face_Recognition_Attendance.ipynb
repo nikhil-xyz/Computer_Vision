{
  "nbformat": 4,
  "nbformat_minor": 0,
  "metadata": {
    "colab": {
      "provenance": [],
      "authorship_tag": "ABX9TyPYtPxqlnHSqL/zO5GKEFuw",
      "include_colab_link": true
    },
    "kernelspec": {
      "name": "python3",
      "display_name": "Python 3"
    },
    "language_info": {
      "name": "python"
    },
    "accelerator": "GPU",
    "gpuClass": "standard"
  },
  "cells": [
    {
      "cell_type": "markdown",
      "metadata": {
        "id": "view-in-github",
        "colab_type": "text"
      },
      "source": [
        "<a href=\"https://colab.research.google.com/github/nikhil-xyz/Computer_Vision/blob/main/Face_Recognition_Attendance.ipynb\" target=\"_parent\"><img src=\"https://colab.research.google.com/assets/colab-badge.svg\" alt=\"Open In Colab\"/></a>"
      ]
    },
    {
      "cell_type": "code",
      "execution_count": 1,
      "metadata": {
        "id": "dNC63M3FUtKL",
        "outputId": "0a5f1577-9bf4-4a9d-c0c1-3778e4152b21",
        "colab": {
          "base_uri": "https://localhost:8080/"
        }
      },
      "outputs": [
        {
          "output_type": "stream",
          "name": "stdout",
          "text": [
            "Cloning into 'Computer_Vision'...\n",
            "remote: Enumerating objects: 27, done.\u001b[K\n",
            "remote: Counting objects: 100% (27/27), done.\u001b[K\n",
            "remote: Compressing objects: 100% (23/23), done.\u001b[K\n",
            "remote: Total 27 (delta 3), reused 7 (delta 0), pack-reused 0\u001b[K\n",
            "Unpacking objects: 100% (27/27), done.\n"
          ]
        }
      ],
      "source": [
        "!git clone https://github.com/nikhil-xyz/Computer_Vision.git"
      ]
    },
    {
      "cell_type": "code",
      "source": [
        "!pip install cmake dlib face_recognition opencv-python "
      ],
      "metadata": {
        "id": "cnG0UyA0Xy0O",
        "outputId": "74e080dd-0363-48e0-a0f3-841ef1c41820",
        "colab": {
          "base_uri": "https://localhost:8080/"
        }
      },
      "execution_count": 2,
      "outputs": [
        {
          "output_type": "stream",
          "name": "stdout",
          "text": [
            "Looking in indexes: https://pypi.org/simple, https://us-python.pkg.dev/colab-wheels/public/simple/\n",
            "Requirement already satisfied: cmake in /usr/local/lib/python3.8/dist-packages (3.22.6)\n",
            "Requirement already satisfied: dlib in /usr/local/lib/python3.8/dist-packages (19.24.0)\n",
            "Collecting face_recognition\n",
            "  Downloading face_recognition-1.3.0-py2.py3-none-any.whl (15 kB)\n",
            "Requirement already satisfied: opencv-python in /usr/local/lib/python3.8/dist-packages (4.6.0.66)\n",
            "Collecting face-recognition-models>=0.3.0\n",
            "  Downloading face_recognition_models-0.3.0.tar.gz (100.1 MB)\n",
            "\u001b[2K     \u001b[90m━━━━━━━━━━━━━━━━━━━━━━━━━━━━━━━━━━━━━━\u001b[0m \u001b[32m100.1/100.1 MB\u001b[0m \u001b[31m11.2 MB/s\u001b[0m eta \u001b[36m0:00:00\u001b[0m\n",
            "\u001b[?25h  Preparing metadata (setup.py) ... \u001b[?25l\u001b[?25hdone\n",
            "Requirement already satisfied: Pillow in /usr/local/lib/python3.8/dist-packages (from face_recognition) (7.1.2)\n",
            "Requirement already satisfied: Click>=6.0 in /usr/local/lib/python3.8/dist-packages (from face_recognition) (7.1.2)\n",
            "Requirement already satisfied: numpy in /usr/local/lib/python3.8/dist-packages (from face_recognition) (1.21.6)\n",
            "Building wheels for collected packages: face-recognition-models\n",
            "  Building wheel for face-recognition-models (setup.py) ... \u001b[?25l\u001b[?25hdone\n",
            "  Created wheel for face-recognition-models: filename=face_recognition_models-0.3.0-py2.py3-none-any.whl size=100566185 sha256=3fdb2bc394a7f318340b2a86cbace9465e9292aae035b6985a00e74d463da5d6\n",
            "  Stored in directory: /root/.cache/pip/wheels/b4/4b/8f/751e99d45f089bdf366a7d3e5066db3c2b84a62e4377f534d7\n",
            "Successfully built face-recognition-models\n",
            "Installing collected packages: face-recognition-models, face_recognition\n",
            "Successfully installed face-recognition-models-0.3.0 face_recognition-1.3.0\n"
          ]
        }
      ]
    },
    {
      "cell_type": "code",
      "source": [
        "import cv2\n",
        "import numpy as np\n",
        "import face_recognition\n",
        "import matplotlib.pyplot as plt\n",
        "import os"
      ],
      "metadata": {
        "id": "5SP78RCEYHdf"
      },
      "execution_count": 3,
      "outputs": []
    },
    {
      "cell_type": "code",
      "source": [
        "from google.colab.patches import cv2_imshow"
      ],
      "metadata": {
        "id": "QBYI4a_Gvtae"
      },
      "execution_count": 8,
      "outputs": []
    },
    {
      "cell_type": "code",
      "source": [
        "path = os.path.join('Computer_Vision', 'data', 'Face_Recognition_Attendance', 'Samples')"
      ],
      "metadata": {
        "id": "2EjAXrnCvYdQ"
      },
      "execution_count": 11,
      "outputs": []
    },
    {
      "cell_type": "code",
      "source": [
        "imgNik = face_recognition.load_image_file(os.path.join(path, 'nikhil.jpg'))\n",
        "imgNik = cv2.cvtColor(imgNik, cv2.COLOR_BGR2RGB)\n",
        "imgNikTest = face_recognition.load_image_file(os.path.join(path, 'nik_test.jpg'))\n",
        "imgNikTest = cv2.cvtColor(imgNikTest, cv2.COLOR_BGR2RGB)"
      ],
      "metadata": {
        "id": "J0e0WHFdY4rh"
      },
      "execution_count": 38,
      "outputs": []
    },
    {
      "cell_type": "code",
      "source": [
        "faceLoc1 = face_recognition.face_locations(imgNik)[0]\n",
        "nikEncode = face_recognition.face_encodings(imgNik)[0]\n",
        "cv2.rectangle(imgNik, (faceLoc1[3], faceLoc1[0]), (faceLoc1[1], faceLoc1[2]), (255,0,255), 5)"
      ],
      "metadata": {
        "id": "uzYMWTRCx3KY",
        "outputId": "8af626ff-6041-42ff-d05a-2f16ec762ef5",
        "colab": {
          "base_uri": "https://localhost:8080/"
        }
      },
      "execution_count": 39,
      "outputs": [
        {
          "output_type": "execute_result",
          "data": {
            "text/plain": [
              "array([[[158, 184, 214],\n",
              "        [157, 183, 213],\n",
              "        [154, 180, 210],\n",
              "        ...,\n",
              "        [220, 234, 246],\n",
              "        [220, 234, 246],\n",
              "        [219, 233, 245]],\n",
              "\n",
              "       [[156, 182, 212],\n",
              "        [156, 182, 212],\n",
              "        [153, 179, 209],\n",
              "        ...,\n",
              "        [219, 233, 245],\n",
              "        [219, 233, 245],\n",
              "        [218, 232, 244]],\n",
              "\n",
              "       [[154, 180, 210],\n",
              "        [155, 181, 211],\n",
              "        [153, 179, 209],\n",
              "        ...,\n",
              "        [221, 235, 247],\n",
              "        [220, 234, 246],\n",
              "        [218, 232, 244]],\n",
              "\n",
              "       ...,\n",
              "\n",
              "       [[143, 139, 110],\n",
              "        [150, 146, 117],\n",
              "        [149, 145, 116],\n",
              "        ...,\n",
              "        [145, 150, 151],\n",
              "        [144, 149, 150],\n",
              "        [141, 146, 147]],\n",
              "\n",
              "       [[146, 143, 115],\n",
              "        [144, 140, 112],\n",
              "        [145, 141, 113],\n",
              "        ...,\n",
              "        [151, 156, 157],\n",
              "        [152, 157, 158],\n",
              "        [151, 156, 157]],\n",
              "\n",
              "       [[145, 142, 114],\n",
              "        [141, 137, 109],\n",
              "        [143, 139, 111],\n",
              "        ...,\n",
              "        [149, 154, 155],\n",
              "        [150, 155, 156],\n",
              "        [148, 153, 154]]], dtype=uint8)"
            ]
          },
          "metadata": {},
          "execution_count": 39
        }
      ]
    },
    {
      "cell_type": "code",
      "source": [
        "faceLoc2 = face_recognition.face_locations(imgNikTest)[0]\n",
        "nikEncodeTest = face_recognition.face_encodings(imgNikTest)[0]\n",
        "cv2.rectangle(imgNikTest, (faceLoc2[3], faceLoc2[0]), (faceLoc2[1], faceLoc2[2]), (255,0,255), 5)"
      ],
      "metadata": {
        "id": "TBFib-cWzbBo",
        "outputId": "c5d03518-5946-4988-c398-decc729cdc47",
        "colab": {
          "base_uri": "https://localhost:8080/"
        }
      },
      "execution_count": 40,
      "outputs": [
        {
          "output_type": "execute_result",
          "data": {
            "text/plain": [
              "array([[[255, 244, 206],\n",
              "        [238, 222, 179],\n",
              "        [186, 167, 122],\n",
              "        ...,\n",
              "        [ 41,  49,  42],\n",
              "        [ 62,  70,  63],\n",
              "        [ 57,  65,  58]],\n",
              "\n",
              "       [[248, 239, 202],\n",
              "        [211, 199, 157],\n",
              "        [181, 165, 122],\n",
              "        ...,\n",
              "        [ 53,  61,  54],\n",
              "        [ 66,  74,  67],\n",
              "        [ 55,  63,  56]],\n",
              "\n",
              "       [[247, 242, 211],\n",
              "        [220, 213, 174],\n",
              "        [185, 173, 133],\n",
              "        ...,\n",
              "        [ 52,  59,  54],\n",
              "        [ 53,  61,  54],\n",
              "        [ 45,  53,  46]],\n",
              "\n",
              "       ...,\n",
              "\n",
              "       [[244, 237, 234],\n",
              "        [245, 238, 235],\n",
              "        [242, 235, 232],\n",
              "        ...,\n",
              "        [231, 222, 212],\n",
              "        [236, 227, 217],\n",
              "        [237, 228, 218]],\n",
              "\n",
              "       [[247, 240, 237],\n",
              "        [246, 239, 236],\n",
              "        [241, 234, 231],\n",
              "        ...,\n",
              "        [230, 224, 213],\n",
              "        [234, 228, 217],\n",
              "        [236, 230, 219]],\n",
              "\n",
              "       [[235, 228, 225],\n",
              "        [240, 233, 230],\n",
              "        [238, 231, 228],\n",
              "        ...,\n",
              "        [231, 225, 214],\n",
              "        [235, 229, 218],\n",
              "        [240, 234, 223]]], dtype=uint8)"
            ]
          },
          "metadata": {},
          "execution_count": 40
        }
      ]
    },
    {
      "cell_type": "code",
      "source": [
        "results = face_recognition.compare_faces([nikEncode], nikEncodeTest)\n",
        "dist = face_recognition.face_distance([nikEncode], nikEncodeTest)\n",
        "print(results, dist)"
      ],
      "metadata": {
        "id": "lnIe3tPX0pvu",
        "outputId": "71a4c0c5-c004-4f91-bff5-0320f2d95234",
        "colab": {
          "base_uri": "https://localhost:8080/"
        }
      },
      "execution_count": 41,
      "outputs": [
        {
          "output_type": "stream",
          "name": "stdout",
          "text": [
            "[True] [0.39938717]\n"
          ]
        }
      ]
    },
    {
      "cell_type": "code",
      "source": [
        "cap = cv2.VideoCapture(0)\n",
        "cap"
      ],
      "metadata": {
        "id": "FQYvYG8a92on",
        "outputId": "5a16c862-bbd6-4d6f-90d1-8c86d74ab9b8",
        "colab": {
          "base_uri": "https://localhost:8080/"
        }
      },
      "execution_count": 47,
      "outputs": [
        {
          "output_type": "execute_result",
          "data": {
            "text/plain": [
              "< cv2.VideoCapture 0x7fae56675ef0>"
            ]
          },
          "metadata": {},
          "execution_count": 47
        }
      ]
    },
    {
      "cell_type": "code",
      "source": [],
      "metadata": {
        "id": "vvj36EH0_9vL"
      },
      "execution_count": null,
      "outputs": []
    }
  ]
}